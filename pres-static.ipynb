{
 "cells": [
  {
   "cell_type": "markdown",
   "metadata": {},
   "source": [
    "Le vecteur est définit dans rotation.py\n",
    "On utilise matplotlib pour le dessiner."
   ]
  },
  {
   "cell_type": "code",
   "execution_count": 1,
   "metadata": {},
   "outputs": [],
   "source": [
    "%matplotlib notebook\n",
    "import numpy as np\n",
    "import ipywidgets as widgets\n",
    "\n",
    "class point:\n",
    "    def __init__(self, l = [0, 0 ,0]):\n",
    "        self.x = l[0]\n",
    "        self.y = l[1]\n",
    "        self.z = l[2]\n",
    "        self.comp = l\n",
    "\n",
    "    def __getitem__(self, key):\n",
    "        if key < 0 or key > 2:\n",
    "            return None\n",
    "        else:\n",
    "            return self.comp[key]\n",
    "\n",
    "    def __iter__(self):\n",
    "        return iter(self.comp)\n",
    "\n",
    "class vector:\n",
    "    def __init__(self, dest = [0, 0, 0], orig = [0, 0, 0]):\n",
    "        self.orig = point(orig)\n",
    "        self.dest = point(dest)\n",
    "        self.comp = point([dest[i] - orig[i] for i in range(3)])\n",
    "        self.norm = np.sqrt(sum(c**2 for c in self.comp))\n",
    "\n",
    "    def __iter__(self):\n",
    "        return iter(self.comp)\n",
    "\n",
    "    def __getitem__(self, key):\n",
    "        return self.comp[key]\n",
    "\n",
    "    def __mul__(self, x = 1):\n",
    "        return vector([c*x for c in self.comp], self.orig)\n",
    "    def __div__(self, x = 1):\n",
    "        return vector([c/x for c in self.comp], self.orig)\n",
    "    def __add__(self, m = [0, 0, 0]):\n",
    "        return vector([self[i]+m[i] for i in range(3)], self.orig)\n",
    "    def __sub__(self, m = [0, 0 ,0]):\n",
    "        return vector([self[i]-m[i] for i in range(3)], self.orig)\n",
    "\n",
    "    def show(self):\n",
    "        print(\"[{} {} {}]\".format(self[0], self[1], self[2]))\n",
    "        return self\n",
    "\n",
    "    def unit(self):\n",
    "        return vector([c/self.norm for c in self.comp], self.orig)\n",
    "\n",
    "    def angle(self, v):\n",
    "        return np.arccos(self.dot_product(v)/(self.norm*v.norm))\n",
    "\n",
    "    def dot_product(self, v):\n",
    "        return sum(self[i]*v[i] for i in range(3))\n",
    "\n",
    "    def cross_product(self, v):\n",
    "        a = self[1]*v[2] - self[2]*v[1]\n",
    "        b = self[2]*v[0] - self[0]*v[2]\n",
    "        c = self[0]*v[1] - self[1]*v[0]\n",
    "        return vector([a, b, c])\n",
    "\n",
    "    def projection(self, v):\n",
    "        return v*(self.dot_product(v)/(v.norm**2))\n",
    "\n",
    "    def rotate(self, dir, angle, degrees = True):\n",
    "        th = angle*(np.pi/180) if degrees else angle\n",
    "        u = dir.unit()\n",
    "        p = quaternion(np.cos(th/2), u*np.sin(th/2))\n",
    "        q = quaternion(0, self)\n",
    "        return (p*q*p.inverse()).imag\n",
    "\n",
    "class quaternion:\n",
    "    def __init__(self, a = 0, v: vector = vector()):\n",
    "        self.real = a\n",
    "        self.imag = v\n",
    "\n",
    "    def __mul__(self, q):\n",
    "        a, u = self.real, self.imag\n",
    "        b, v = q.real, q.imag\n",
    "        c = a*b - u.dot_product(v)\n",
    "        w = v*a + u*b + u.cross_product(v)\n",
    "        return quaternion(c, w)\n",
    "\n",
    "    def __add__(self, q):\n",
    "        return quaternion(self.real + q.real, self.imag + q.imag)\n",
    "\n",
    "    def __sub__(self, q):\n",
    "        return quaternion(self.real - q.real, self.imag - q.imag)\n",
    "\n",
    "    def show(self):\n",
    "        print(\"({}, {}, {}, {})\".format(self.real, self.imag[0], self.imag[1], self.imag[2]))\n",
    "        return self\n",
    "\n",
    "    def inverse(self):\n",
    "        return quaternion(self.real, vector() - self.imag)\n",
    "    \n",
    "def xunit(v: vector = vector()):\n",
    "        return vector([1.0, 0, 0], v.orig)\n",
    "def yunit(v: vector = vector()):\n",
    "    return vector([0, 1.0, 0], v.orig)\n",
    "def zunit(v: vector = vector()):\n",
    "    return vector([0, 0, 1.0], v.orig)\n",
    "\n",
    "\n",
    "def make_angle_slider(self):\n",
    "    return widgets.IntSlider(min = 0, max = 360, step = 1)\n",
    "\n",
    "class scene:\n",
    "    def __init__(self, v, d = xunit()):\n",
    "        self.fig = plt.figure()\n",
    "        self.ax = self.fig.add_subplot(111, projection = \"3d\", xlim = (-3, 3), ylim = (-3, 3), zlim = (-3, 3))\n",
    "\n",
    "        self.vangle = 0\n",
    "        self.dangle = 0\n",
    "        self.vi = self.v = v\n",
    "        self.di = self.d = d\n",
    "        self.Qv = self.quiver(v)\n",
    "        self.Qd = self.quiver(d, \"green\")\n",
    "\n",
    "        self.xu = xunit(self.v)\n",
    "        self.yu = yunit(self.v)\n",
    "        self.zu = zunit(self.v)\n",
    "\n",
    "        plt.ion()\n",
    "        plt.show()\n",
    "\n",
    "    def make_angle_slider(self):\n",
    "        return widgets.IntSlider(min = 0, max = 360, step = 1)\n",
    "\n",
    "    def quiver(self, v: vector, col = \"black\"):\n",
    "        o = v.orig\n",
    "        d = v.dest\n",
    "        q = self.ax.quiver(o[0], o[1], o[2], d[0], d[1], d[2], color = col)\n",
    "        return q\n",
    "\n",
    "    def rotate_vector(self, angle_vecteur):\n",
    "        self.vangle = angle_vecteur\n",
    "        self.v = self.vi.rotate(self.d, self.vangle, True)\n",
    "        self.ax.collections.remove(self.Qv)\n",
    "        self.Qv = self.quiver(self.v)\n",
    "        self.fig.canvas.draw()\n",
    "\n",
    "    def rotate_dir(self, d, angle_direction):\n",
    "        self.dangle = angle_direction\n",
    "        self.d = self.di.rotate(d, self.dangle, True)\n",
    "        self.vi = self.v.rotate(self.d, -self.vangle, True)\n",
    "        self.ax.collections.remove(self.Qd)\n",
    "        self.Qd = self.quiver(self.d, \"green\")\n",
    "        self.fig.canvas.draw()\n",
    "\n",
    "    def rotate_3D(self, angleX, angleY, angleZ):\n",
    "        self.vangle = 0\n",
    "        self.v = self.vi.rotate(self.xu, angleX, True) \\\n",
    "            .rotate(self.yu, angleY, True) \\\n",
    "            .rotate(self.zu, angleZ, True)\n",
    "        self.ax.collections.remove(self.Qv)\n",
    "        self.Qv = self.quiver(self.v)\n",
    "        self.fig.canvas.draw()"
   ]
  },
  {
   "cell_type": "markdown",
   "metadata": {},
   "source": [
    "Commençons par tracer le vecteur V = \\[2 2 2\\] dans l'espace:"
   ]
  },
  {
   "cell_type": "code",
   "execution_count": 2,
   "metadata": {
    "scrolled": true
   },
   "outputs": [
    {
     "ename": "NameError",
     "evalue": "name 'plt' is not defined",
     "output_type": "error",
     "traceback": [
      "\u001b[0;31m---------------------------------------------------------------------------\u001b[0m",
      "\u001b[0;31mNameError\u001b[0m                                 Traceback (most recent call last)",
      "\u001b[0;32m<ipython-input-2-807177dfe194>\u001b[0m in \u001b[0;36m<module>\u001b[0;34m\u001b[0m\n\u001b[1;32m      3\u001b[0m \u001b[0;34m\u001b[0m\u001b[0m\n\u001b[1;32m      4\u001b[0m \u001b[0;31m# On crée une scène pour cette démonstration en utilisant le vecteur V\u001b[0m\u001b[0;34m\u001b[0m\u001b[0;34m\u001b[0m\u001b[0;34m\u001b[0m\u001b[0m\n\u001b[0;32m----> 5\u001b[0;31m \u001b[0ms1\u001b[0m \u001b[0;34m=\u001b[0m \u001b[0mscene\u001b[0m\u001b[0;34m(\u001b[0m\u001b[0mV\u001b[0m\u001b[0;34m)\u001b[0m\u001b[0;34m\u001b[0m\u001b[0;34m\u001b[0m\u001b[0m\n\u001b[0m",
      "\u001b[0;32m<ipython-input-1-84a88afcd7e4>\u001b[0m in \u001b[0;36m__init__\u001b[0;34m(self, v, d)\u001b[0m\n\u001b[1;32m    108\u001b[0m \u001b[0;32mclass\u001b[0m \u001b[0mscene\u001b[0m\u001b[0;34m:\u001b[0m\u001b[0;34m\u001b[0m\u001b[0;34m\u001b[0m\u001b[0m\n\u001b[1;32m    109\u001b[0m         \u001b[0;32mdef\u001b[0m \u001b[0m__init__\u001b[0m\u001b[0;34m(\u001b[0m\u001b[0mself\u001b[0m\u001b[0;34m,\u001b[0m \u001b[0mv\u001b[0m\u001b[0;34m,\u001b[0m \u001b[0md\u001b[0m \u001b[0;34m=\u001b[0m \u001b[0mxunit\u001b[0m\u001b[0;34m(\u001b[0m\u001b[0;34m)\u001b[0m\u001b[0;34m)\u001b[0m\u001b[0;34m:\u001b[0m\u001b[0;34m\u001b[0m\u001b[0;34m\u001b[0m\u001b[0m\n\u001b[0;32m--> 110\u001b[0;31m                 \u001b[0mself\u001b[0m\u001b[0;34m.\u001b[0m\u001b[0mfig\u001b[0m \u001b[0;34m=\u001b[0m \u001b[0mplt\u001b[0m\u001b[0;34m.\u001b[0m\u001b[0mfigure\u001b[0m\u001b[0;34m(\u001b[0m\u001b[0;34m)\u001b[0m\u001b[0;34m\u001b[0m\u001b[0;34m\u001b[0m\u001b[0m\n\u001b[0m\u001b[1;32m    111\u001b[0m                 \u001b[0mself\u001b[0m\u001b[0;34m.\u001b[0m\u001b[0max\u001b[0m \u001b[0;34m=\u001b[0m \u001b[0mself\u001b[0m\u001b[0;34m.\u001b[0m\u001b[0mfig\u001b[0m\u001b[0;34m.\u001b[0m\u001b[0madd_subplot\u001b[0m\u001b[0;34m(\u001b[0m\u001b[0;36m111\u001b[0m\u001b[0;34m,\u001b[0m \u001b[0mprojection\u001b[0m \u001b[0;34m=\u001b[0m \u001b[0;34m\"3d\"\u001b[0m\u001b[0;34m,\u001b[0m \u001b[0mxlim\u001b[0m \u001b[0;34m=\u001b[0m \u001b[0;34m(\u001b[0m\u001b[0;34m-\u001b[0m\u001b[0;36m3\u001b[0m\u001b[0;34m,\u001b[0m \u001b[0;36m3\u001b[0m\u001b[0;34m)\u001b[0m\u001b[0;34m,\u001b[0m \u001b[0mylim\u001b[0m \u001b[0;34m=\u001b[0m \u001b[0;34m(\u001b[0m\u001b[0;34m-\u001b[0m\u001b[0;36m3\u001b[0m\u001b[0;34m,\u001b[0m \u001b[0;36m3\u001b[0m\u001b[0;34m)\u001b[0m\u001b[0;34m,\u001b[0m \u001b[0mzlim\u001b[0m \u001b[0;34m=\u001b[0m \u001b[0;34m(\u001b[0m\u001b[0;34m-\u001b[0m\u001b[0;36m3\u001b[0m\u001b[0;34m,\u001b[0m \u001b[0;36m3\u001b[0m\u001b[0;34m)\u001b[0m\u001b[0;34m)\u001b[0m\u001b[0;34m\u001b[0m\u001b[0;34m\u001b[0m\u001b[0m\n\u001b[1;32m    112\u001b[0m \u001b[0;34m\u001b[0m\u001b[0m\n",
      "\u001b[0;31mNameError\u001b[0m: name 'plt' is not defined"
     ]
    }
   ],
   "source": [
    "# On crée le vecteur V qui part de l'origine comme [2 2 2]\n",
    "V = vector([2.0, 2.0, 2.0])\n",
    "\n",
    "# On crée une scène pour cette démonstration en utilisant le vecteur V\n",
    "s1 = scene(V)"
   ]
  },
  {
   "cell_type": "markdown",
   "metadata": {},
   "source": [
    "Faisons-le tourner par rapport à l'axe des x"
   ]
  },
  {
   "cell_type": "code",
   "execution_count": null,
   "metadata": {},
   "outputs": [],
   "source": [
    "# Production du slider qui définit l'angle du vecteur par rapport au vecteur unitaire en x\n",
    "widgets.interact(s1.rotate_vector, angle_vecteur = s1.make_angle_slider())"
   ]
  },
  {
   "cell_type": "markdown",
   "metadata": {},
   "source": [
    "Si on utilise un vecteur unitaire d vers z comme axe de rotation et qu'on le fait pivoter par rapport à l'axe des x, nous pouvons faire tourner le vecteur dans toutes les directions de l'espace."
   ]
  },
  {
   "cell_type": "code",
   "execution_count": null,
   "metadata": {},
   "outputs": [],
   "source": [
    "# On crée un vecteur directionel qui sera variable (arbitrairement vers les z)\n",
    "d = vector(zunit(V))\n",
    "\n",
    "# On crée la scène pour cette démonstration, en ajoutant le vecteur d variable\n",
    "s2 = scene(V, d)\n",
    "\n",
    "# On produit deux sliders pour définir l'angle de rotation de V autour de d,\n",
    "# et un angle pour définit l'angle de d autour de l'axe des x\n",
    "widgets.interact(s2.rotate_vector, angle_vecteur = s2.make_angle_slider())\n",
    "widgets.interact(s2.rotate_dir, d = widgets.fixed(xunit()), angle_direction = s2.make_angle_slider())"
   ]
  },
  {
   "cell_type": "markdown",
   "metadata": {},
   "source": [
    "On peut rajouter des axes en y et z pour le faire tourner en 3D d'une façon plus intuitive"
   ]
  },
  {
   "cell_type": "code",
   "execution_count": null,
   "metadata": {},
   "outputs": [],
   "source": [
    "# On crée une nouvelle scène pour la démonstration\n",
    "s3 = scene(V)\n",
    "\n",
    "# On trace les vecteurs unitaires en x, en y et en z\n",
    "s3.quiver(xunit(V), \"red\")\n",
    "s3.quiver(yunit(V), \"blue\")\n",
    "s3.quiver(zunit(V), \"green\")\n",
    "\n",
    "# On trace trois sliders pour définir l'angle autour des vecteurs unitaires en x, y et z\n",
    "widgets.interact(s3.rotate_3D,\n",
    "                 v = widgets.fixed(V),\n",
    "                 angleX = s3.make_angle_slider(),\n",
    "                 angleY = s3.make_angle_slider(),\n",
    "                 angleZ = s3.make_angle_slider())"
   ]
  },
  {
   "cell_type": "code",
   "execution_count": null,
   "metadata": {},
   "outputs": [],
   "source": []
  }
 ],
 "metadata": {
  "kernelspec": {
   "display_name": "Python 3",
   "language": "python",
   "name": "python3"
  },
  "language_info": {
   "codemirror_mode": {
    "name": "ipython",
    "version": 3
   },
   "file_extension": ".py",
   "mimetype": "text/x-python",
   "name": "python",
   "nbconvert_exporter": "python",
   "pygments_lexer": "ipython3",
   "version": "3.7.3"
  }
 },
 "nbformat": 4,
 "nbformat_minor": 2
}
